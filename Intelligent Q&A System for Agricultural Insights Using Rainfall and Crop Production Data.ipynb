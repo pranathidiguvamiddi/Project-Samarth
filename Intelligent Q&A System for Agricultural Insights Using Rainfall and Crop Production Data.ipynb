{
 "cells": [
  {
   "cell_type": "markdown",
   "id": "db77a433-093c-4e7f-b96e-8dfd632ffd5a",
   "metadata": {},
   "source": [
    "Import All Required Python Libraries"
   ]
  },
  {
   "cell_type": "code",
   "execution_count": 6,
   "id": "395e3f81-5bb2-483d-a16d-dd2219a8e2ff",
   "metadata": {},
   "outputs": [],
   "source": [
    "import pandas as pd\n",
    "import numpy as np\n",
    "import matplotlib.pyplot as plt\n",
    "from sklearn.model_selection import train_test_split\n",
    "from sklearn.linear_model import LinearRegression\n",
    "from sklearn.metrics import mean_squared_error, r2_score\n",
    "import joblib\n",
    "import warnings\n",
    "warnings.filterwarnings(\"ignore\")"
   ]
  },
  {
   "cell_type": "markdown",
   "id": "dd130ac3-494c-405a-aaff-7483e5ff5167",
   "metadata": {},
   "source": [
    "Read Dataset"
   ]
  },
  {
   "cell_type": "code",
   "execution_count": 7,
   "id": "871ed187-2665-433c-b09e-cbd51fe336b5",
   "metadata": {},
   "outputs": [],
   "source": [
    "rain = pd.read_csv(r\"E:\\Desktop\\project_samarth\\rawdata\\Sub_Division_IMD_2017.csv\")\n",
    "crop = pd.read_csv(r\"E:\\Desktop\\project_samarth\\dataraw\\Crop_Production_data.csv\")\n"
   ]
  },
  {
   "cell_type": "markdown",
   "id": "e5df2146-fee2-4503-ad0f-bc71d2ca967f",
   "metadata": {},
   "source": [
    "Preview first 5 rows to confirm successful loading"
   ]
  },
  {
   "cell_type": "code",
   "execution_count": 8,
   "id": "b153c9e0-cf7c-48a7-bcf0-514669900b51",
   "metadata": {},
   "outputs": [
    {
     "name": "stdout",
     "output_type": "stream",
     "text": [
      "Crop Production Data:\n",
      "                    State_Name District_Name  Crop_Year       Season  \\\n",
      "0  Andaman and Nicobar Islands      NICOBARS       2000  Kharif        \n",
      "1  Andaman and Nicobar Islands      NICOBARS       2000  Kharif        \n",
      "2  Andaman and Nicobar Islands      NICOBARS       2000  Kharif        \n",
      "3  Andaman and Nicobar Islands      NICOBARS       2000  Whole Year    \n",
      "4  Andaman and Nicobar Islands      NICOBARS       2000  Whole Year    \n",
      "\n",
      "                  Crop    Area  Production  \n",
      "0             Arecanut  1254.0      2000.0  \n",
      "1  Other Kharif pulses     2.0         1.0  \n",
      "2                 Rice   102.0       321.0  \n",
      "3               Banana   176.0       641.0  \n",
      "4            Cashewnut   720.0       165.0  \n",
      "\n",
      "Rainfall Data:\n",
      "                 SUBDIVISION  YEAR   JAN    FEB   MAR    APR    MAY    JUN  \\\n",
      "0  Andaman & Nicobar Islands  1901  49.2   87.1  29.2    2.3  528.8  517.5   \n",
      "1  Andaman & Nicobar Islands  1902   0.0  159.8  12.2    0.0  446.1  537.1   \n",
      "2  Andaman & Nicobar Islands  1903  12.7  144.0   0.0    1.0  235.1  479.9   \n",
      "3  Andaman & Nicobar Islands  1904   9.4   14.7   0.0  202.4  304.5  495.1   \n",
      "4  Andaman & Nicobar Islands  1905   1.3    0.0   3.3   26.9  279.5  628.7   \n",
      "\n",
      "     JUL    AUG    SEP    OCT    NOV    DEC  ANNUAL     JF    MAM    JJAS  \\\n",
      "0  365.1  481.1  332.6  388.5  558.2   33.6  3373.2  136.3  560.3  1696.3   \n",
      "1  228.9  753.7  666.2  197.2  359.0  160.5  3520.7  159.8  458.3  2185.9   \n",
      "2  728.4  326.7  339.0  181.2  284.4  225.0  2957.4  156.7  236.1  1874.0   \n",
      "3  502.0  160.1  820.4  222.2  308.7   40.1  3079.6   24.1  506.9  1977.6   \n",
      "4  368.7  330.5  297.0  260.7   25.4  344.7  2566.7    1.3  309.7  1624.9   \n",
      "\n",
      "     OND  \n",
      "0  980.3  \n",
      "1  716.7  \n",
      "2  690.6  \n",
      "3  571.0  \n",
      "4  630.8  \n"
     ]
    }
   ],
   "source": [
    "print(\"Crop Production Data:\")\n",
    "print(crop.head())\n",
    "\n",
    "print(\"\\nRainfall Data:\")\n",
    "print(rain.head())"
   ]
  },
  {
   "cell_type": "code",
   "execution_count": 9,
   "id": "e3136723-6d2c-4121-a8ef-39a17c1eacd5",
   "metadata": {},
   "outputs": [
    {
     "name": "stdout",
     "output_type": "stream",
     "text": [
      "Index(['SUBDIVISION', 'YEAR', 'JAN', 'FEB', 'MAR', 'APR', 'MAY', 'JUN', 'JUL',\n",
      "       'AUG', 'SEP', 'OCT', 'NOV', 'DEC', 'ANNUAL', 'JF', 'MAM', 'JJAS',\n",
      "       'OND'],\n",
      "      dtype='object')\n"
     ]
    }
   ],
   "source": [
    "\n",
    "crop = crop[['State_Name', 'District_Name', 'Crop_Year', 'Crop', 'Season', 'Area', 'Production']]\n",
    "\n",
    "print(rain.columns)\n"
   ]
  },
  {
   "cell_type": "code",
   "execution_count": 10,
   "id": "832677da-183b-48d8-8af9-6601b72d5631",
   "metadata": {},
   "outputs": [],
   "source": [
    "rain = rain[['SUBDIVISION', 'YEAR', 'ANNUAL']]\n"
   ]
  },
  {
   "cell_type": "code",
   "execution_count": 11,
   "id": "a17074da-748f-447b-bbd4-f4b716396c9d",
   "metadata": {},
   "outputs": [],
   "source": [
    "rain = rain.rename(columns={\n",
    "    'SUBDIVISION': 'State_Name',\n",
    "    'YEAR': 'Year'\n",
    "}).copy()\n"
   ]
  },
  {
   "cell_type": "markdown",
   "id": "642a9c74-109c-4bb0-8f0f-1ab93ee87b82",
   "metadata": {},
   "source": [
    "Merged Data (Two Data sets )\n"
   ]
  },
  {
   "cell_type": "code",
   "execution_count": 12,
   "id": "b44ac0fd-bfe3-4bf7-adf6-48555b86b222",
   "metadata": {},
   "outputs": [
    {
     "name": "stdout",
     "output_type": "stream",
     "text": [
      "Merged Data:\n",
      "          State_Name District_Name  Crop_Year           Crop       Season  \\\n",
      "0  Arunachal Pradesh         ANJAW       2004          Maize  Kharif        \n",
      "1  Arunachal Pradesh         ANJAW       2004           Rice  Kharif        \n",
      "2  Arunachal Pradesh         ANJAW       2004  Small millets  Kharif        \n",
      "3  Arunachal Pradesh         ANJAW       2004          Wheat  Rabi          \n",
      "4  Arunachal Pradesh         ANJAW       2004   Dry chillies  Whole Year    \n",
      "\n",
      "     Area  Production  Year  ANNUAL  \n",
      "0  2453.0      2674.0  2004  2545.7  \n",
      "1  3342.0      1914.0  2004  2545.7  \n",
      "2   532.0       495.0  2004  2545.7  \n",
      "3    30.0        60.0  2004  2545.7  \n",
      "4    13.0        18.0  2004  2545.7  \n"
     ]
    }
   ],
   "source": [
    "merged = pd.merge(crop, rain, left_on=['State_Name', 'Crop_Year'], right_on=['State_Name', 'Year'], how='inner')\n",
    "print(\"Merged Data:\")\n",
    "print(merged.head())\n",
    "\n"
   ]
  },
  {
   "cell_type": "code",
   "execution_count": 13,
   "id": "aa8b888f-d529-4341-a2f6-554d84399fb4",
   "metadata": {},
   "outputs": [
    {
     "data": {
      "text/html": [
       "<div>\n",
       "<style scoped>\n",
       "    .dataframe tbody tr th:only-of-type {\n",
       "        vertical-align: middle;\n",
       "    }\n",
       "\n",
       "    .dataframe tbody tr th {\n",
       "        vertical-align: top;\n",
       "    }\n",
       "\n",
       "    .dataframe thead th {\n",
       "        text-align: right;\n",
       "    }\n",
       "</style>\n",
       "<table border=\"1\" class=\"dataframe\">\n",
       "  <thead>\n",
       "    <tr style=\"text-align: right;\">\n",
       "      <th></th>\n",
       "      <th>State_Name</th>\n",
       "      <th>District_Name</th>\n",
       "      <th>Crop_Year</th>\n",
       "      <th>Crop</th>\n",
       "      <th>Season</th>\n",
       "      <th>Area</th>\n",
       "      <th>Production</th>\n",
       "      <th>Year</th>\n",
       "      <th>ANNUAL</th>\n",
       "    </tr>\n",
       "  </thead>\n",
       "  <tbody>\n",
       "    <tr>\n",
       "      <th>0</th>\n",
       "      <td>Arunachal Pradesh</td>\n",
       "      <td>ANJAW</td>\n",
       "      <td>2004</td>\n",
       "      <td>Maize</td>\n",
       "      <td>Kharif</td>\n",
       "      <td>2453.0</td>\n",
       "      <td>2674.0</td>\n",
       "      <td>2004</td>\n",
       "      <td>2545.7</td>\n",
       "    </tr>\n",
       "    <tr>\n",
       "      <th>1</th>\n",
       "      <td>Arunachal Pradesh</td>\n",
       "      <td>ANJAW</td>\n",
       "      <td>2004</td>\n",
       "      <td>Rice</td>\n",
       "      <td>Kharif</td>\n",
       "      <td>3342.0</td>\n",
       "      <td>1914.0</td>\n",
       "      <td>2004</td>\n",
       "      <td>2545.7</td>\n",
       "    </tr>\n",
       "    <tr>\n",
       "      <th>2</th>\n",
       "      <td>Arunachal Pradesh</td>\n",
       "      <td>ANJAW</td>\n",
       "      <td>2004</td>\n",
       "      <td>Small millets</td>\n",
       "      <td>Kharif</td>\n",
       "      <td>532.0</td>\n",
       "      <td>495.0</td>\n",
       "      <td>2004</td>\n",
       "      <td>2545.7</td>\n",
       "    </tr>\n",
       "    <tr>\n",
       "      <th>3</th>\n",
       "      <td>Arunachal Pradesh</td>\n",
       "      <td>ANJAW</td>\n",
       "      <td>2004</td>\n",
       "      <td>Wheat</td>\n",
       "      <td>Rabi</td>\n",
       "      <td>30.0</td>\n",
       "      <td>60.0</td>\n",
       "      <td>2004</td>\n",
       "      <td>2545.7</td>\n",
       "    </tr>\n",
       "    <tr>\n",
       "      <th>4</th>\n",
       "      <td>Arunachal Pradesh</td>\n",
       "      <td>ANJAW</td>\n",
       "      <td>2004</td>\n",
       "      <td>Dry chillies</td>\n",
       "      <td>Whole Year</td>\n",
       "      <td>13.0</td>\n",
       "      <td>18.0</td>\n",
       "      <td>2004</td>\n",
       "      <td>2545.7</td>\n",
       "    </tr>\n",
       "  </tbody>\n",
       "</table>\n",
       "</div>"
      ],
      "text/plain": [
       "          State_Name District_Name  Crop_Year           Crop       Season  \\\n",
       "0  Arunachal Pradesh         ANJAW       2004          Maize  Kharif        \n",
       "1  Arunachal Pradesh         ANJAW       2004           Rice  Kharif        \n",
       "2  Arunachal Pradesh         ANJAW       2004  Small millets  Kharif        \n",
       "3  Arunachal Pradesh         ANJAW       2004          Wheat  Rabi          \n",
       "4  Arunachal Pradesh         ANJAW       2004   Dry chillies  Whole Year    \n",
       "\n",
       "     Area  Production  Year  ANNUAL  \n",
       "0  2453.0      2674.0  2004  2545.7  \n",
       "1  3342.0      1914.0  2004  2545.7  \n",
       "2   532.0       495.0  2004  2545.7  \n",
       "3    30.0        60.0  2004  2545.7  \n",
       "4    13.0        18.0  2004  2545.7  "
      ]
     },
     "execution_count": 13,
     "metadata": {},
     "output_type": "execute_result"
    }
   ],
   "source": [
    "data = pd.read_csv(r\"E:\\Desktop\\project_samarth\\data\\processed\\merged_data.csv\")\n",
    "data.head()\n"
   ]
  },
  {
   "cell_type": "markdown",
   "id": "986659c7-2991-493f-9385-a0d6a9762400",
   "metadata": {},
   "source": [
    "Check Missing Values, Fill missing values and Clean Data"
   ]
  },
  {
   "cell_type": "code",
   "execution_count": 14,
   "id": "9eacb350-8e1e-4995-8072-8a62fe9c8582",
   "metadata": {},
   "outputs": [
    {
     "data": {
      "text/plain": [
       "State_Name          0\n",
       "District_Name       0\n",
       "Crop_Year           0\n",
       "Crop                0\n",
       "Season              0\n",
       "Area                0\n",
       "Production       1031\n",
       "Year                0\n",
       "ANNUAL              0\n",
       "dtype: int64"
      ]
     },
     "execution_count": 14,
     "metadata": {},
     "output_type": "execute_result"
    }
   ],
   "source": [
    "data.isnull().sum()"
   ]
  },
  {
   "cell_type": "code",
   "execution_count": 15,
   "id": "ae67ab80-2564-4c72-9451-4735f9fb24cf",
   "metadata": {},
   "outputs": [],
   "source": [
    "data.fillna(0, inplace=True) "
   ]
  },
  {
   "cell_type": "code",
   "execution_count": 16,
   "id": "a376ea57-d825-4eac-ab4f-e79faf6e7285",
   "metadata": {},
   "outputs": [
    {
     "data": {
      "text/html": [
       "<div>\n",
       "<style scoped>\n",
       "    .dataframe tbody tr th:only-of-type {\n",
       "        vertical-align: middle;\n",
       "    }\n",
       "\n",
       "    .dataframe tbody tr th {\n",
       "        vertical-align: top;\n",
       "    }\n",
       "\n",
       "    .dataframe thead th {\n",
       "        text-align: right;\n",
       "    }\n",
       "</style>\n",
       "<table border=\"1\" class=\"dataframe\">\n",
       "  <thead>\n",
       "    <tr style=\"text-align: right;\">\n",
       "      <th></th>\n",
       "      <th>Crop_Year</th>\n",
       "      <th>Area</th>\n",
       "      <th>Production</th>\n",
       "      <th>Year</th>\n",
       "      <th>ANNUAL</th>\n",
       "    </tr>\n",
       "  </thead>\n",
       "  <tbody>\n",
       "    <tr>\n",
       "      <th>count</th>\n",
       "      <td>61777.000000</td>\n",
       "      <td>61777.000000</td>\n",
       "      <td>6.177700e+04</td>\n",
       "      <td>61777.000000</td>\n",
       "      <td>61777.000000</td>\n",
       "    </tr>\n",
       "    <tr>\n",
       "      <th>mean</th>\n",
       "      <td>2005.694838</td>\n",
       "      <td>8229.529931</td>\n",
       "      <td>1.799665e+06</td>\n",
       "      <td>2005.694838</td>\n",
       "      <td>1269.884917</td>\n",
       "    </tr>\n",
       "    <tr>\n",
       "      <th>std</th>\n",
       "      <td>4.870558</td>\n",
       "      <td>29798.504313</td>\n",
       "      <td>3.188371e+07</td>\n",
       "      <td>4.870558</td>\n",
       "      <td>617.643374</td>\n",
       "    </tr>\n",
       "    <tr>\n",
       "      <th>min</th>\n",
       "      <td>1997.000000</td>\n",
       "      <td>0.040000</td>\n",
       "      <td>0.000000e+00</td>\n",
       "      <td>1997.000000</td>\n",
       "      <td>274.700000</td>\n",
       "    </tr>\n",
       "    <tr>\n",
       "      <th>25%</th>\n",
       "      <td>2002.000000</td>\n",
       "      <td>59.000000</td>\n",
       "      <td>5.700000e+01</td>\n",
       "      <td>2002.000000</td>\n",
       "      <td>950.500000</td>\n",
       "    </tr>\n",
       "    <tr>\n",
       "      <th>50%</th>\n",
       "      <td>2006.000000</td>\n",
       "      <td>451.000000</td>\n",
       "      <td>5.280000e+02</td>\n",
       "      <td>2006.000000</td>\n",
       "      <td>1197.700000</td>\n",
       "    </tr>\n",
       "    <tr>\n",
       "      <th>75%</th>\n",
       "      <td>2010.000000</td>\n",
       "      <td>2920.000000</td>\n",
       "      <td>4.503000e+03</td>\n",
       "      <td>2010.000000</td>\n",
       "      <td>1377.400000</td>\n",
       "    </tr>\n",
       "    <tr>\n",
       "      <th>max</th>\n",
       "      <td>2014.000000</td>\n",
       "      <td>545965.000000</td>\n",
       "      <td>1.250800e+09</td>\n",
       "      <td>2014.000000</td>\n",
       "      <td>3616.700000</td>\n",
       "    </tr>\n",
       "  </tbody>\n",
       "</table>\n",
       "</div>"
      ],
      "text/plain": [
       "          Crop_Year           Area    Production          Year        ANNUAL\n",
       "count  61777.000000   61777.000000  6.177700e+04  61777.000000  61777.000000\n",
       "mean    2005.694838    8229.529931  1.799665e+06   2005.694838   1269.884917\n",
       "std        4.870558   29798.504313  3.188371e+07      4.870558    617.643374\n",
       "min     1997.000000       0.040000  0.000000e+00   1997.000000    274.700000\n",
       "25%     2002.000000      59.000000  5.700000e+01   2002.000000    950.500000\n",
       "50%     2006.000000     451.000000  5.280000e+02   2006.000000   1197.700000\n",
       "75%     2010.000000    2920.000000  4.503000e+03   2010.000000   1377.400000\n",
       "max     2014.000000  545965.000000  1.250800e+09   2014.000000   3616.700000"
      ]
     },
     "execution_count": 16,
     "metadata": {},
     "output_type": "execute_result"
    }
   ],
   "source": [
    "data.describe()"
   ]
  },
  {
   "cell_type": "markdown",
   "id": "c3656c39-87a6-4ffb-94ee-d413994024cb",
   "metadata": {},
   "source": [
    "Process Dataset"
   ]
  },
  {
   "cell_type": "code",
   "execution_count": 17,
   "id": "d7b280be-36bb-4a76-bfb9-fa16043528c2",
   "metadata": {},
   "outputs": [],
   "source": [
    "features = [\"Rainfall\", \"Temperature\", \"Humidity\"]\n",
    "target = \"Crop_Production\""
   ]
  },
  {
   "cell_type": "markdown",
   "id": "1ba713f1-fe66-4d34-b18e-7672bea59200",
   "metadata": {},
   "source": [
    "Visualize Rainfall–Crop Relationship and Correlations"
   ]
  },
  {
   "cell_type": "code",
   "execution_count": 18,
   "id": "30c303ec-488a-434d-b77b-e0c5971a7ab1",
   "metadata": {},
   "outputs": [
    {
     "data": {
      "image/png": "[encoded data removed]",
      "text/plain": [
       "<Figure size 640x480 with 1 Axes>"
      ]
     },
     "metadata": {},
     "output_type": "display_data"
    },
    {
     "data": {
      "image/png": "[encoded data removed]",
      "text/plain": [
       "<Figure size 640x480 with 1 Axes>"
      ]
     },
     "metadata": {},
     "output_type": "display_data"
    }
   ],
   "source": [
    "#Rainfall vs Production\n",
    "import seaborn as sns\n",
    "sns.scatterplot(x='ANNUAL', y='Production', data=data)\n",
    "plt.title('Rainfall vs Crop Production')\n",
    "plt.show()\n",
    "\n",
    "# Average rainfall by state\n",
    "sns.barplot(x='State_Name', y='ANNUAL', data=data)\n",
    "plt.xticks(rotation=90)\n",
    "plt.title('Average Rainfall by State')\n",
    "plt.show()"
   ]
  },
  {
   "cell_type": "code",
   "execution_count": 19,
   "id": "3aa5a7a2-5b80-40bc-b687-bdc271d27f86",
   "metadata": {},
   "outputs": [
    {
     "data": {
      "text/html": [
       "<div>\n",
       "<style scoped>\n",
       "    .dataframe tbody tr th:only-of-type {\n",
       "        vertical-align: middle;\n",
       "    }\n",
       "\n",
       "    .dataframe tbody tr th {\n",
       "        vertical-align: top;\n",
       "    }\n",
       "\n",
       "    .dataframe thead th {\n",
       "        text-align: right;\n",
       "    }\n",
       "</style>\n",
       "<table border=\"1\" class=\"dataframe\">\n",
       "  <thead>\n",
       "    <tr style=\"text-align: right;\">\n",
       "      <th></th>\n",
       "      <th>ANNUAL</th>\n",
       "      <th>Production</th>\n",
       "    </tr>\n",
       "  </thead>\n",
       "  <tbody>\n",
       "    <tr>\n",
       "      <th>ANNUAL</th>\n",
       "      <td>1.000000</td>\n",
       "      <td>0.125703</td>\n",
       "    </tr>\n",
       "    <tr>\n",
       "      <th>Production</th>\n",
       "      <td>0.125703</td>\n",
       "      <td>1.000000</td>\n",
       "    </tr>\n",
       "  </tbody>\n",
       "</table>\n",
       "</div>"
      ],
      "text/plain": [
       "              ANNUAL  Production\n",
       "ANNUAL      1.000000    0.125703\n",
       "Production  0.125703    1.000000"
      ]
     },
     "execution_count": 19,
     "metadata": {},
     "output_type": "execute_result"
    }
   ],
   "source": [
    "\n",
    "data[['ANNUAL', 'Production']].corr()\n",
    "\n"
   ]
  },
  {
   "cell_type": "code",
   "execution_count": 20,
   "id": "c7877022-9e4e-4a8a-b909-6474efcc7177",
   "metadata": {},
   "outputs": [
    {
     "data": {
      "image/png": "[encoded data removed]",
      "text/plain": [
       "<Figure size 640x480 with 1 Axes>"
      ]
     },
     "metadata": {},
     "output_type": "display_data"
    }
   ],
   "source": [
    "from sklearn.model_selection import train_test_split\n",
    "from sklearn.linear_model import LinearRegression\n",
    "\n",
    "X = data[['ANNUAL']]  # rainfall\n",
    "y = data['Production']  # crop production\n",
    "\n",
    "X_train, X_test, y_train, y_test = train_test_split(X, y, test_size=0.2, random_state=42)\n",
    "\n",
    "model = LinearRegression()\n",
    "model.fit(X_train, y_train)\n",
    "\n",
    "y_pred = model.predict(X_test)\n",
    "\n",
    "plt.scatter(X_test, y_test, color='blue')\n",
    "plt.plot(X_test, y_pred, color='red')\n",
    "plt.title('Rainfall vs Predicted Crop Production')\n",
    "plt.show()\n"
   ]
  },
  {
   "cell_type": "code",
   "execution_count": 21,
   "id": "290a08a1-ec3d-4d7b-8a7d-d589e46ac516",
   "metadata": {},
   "outputs": [
    {
     "name": "stdout",
     "output_type": "stream",
     "text": [
      "Correlation between Rainfall and Crop Production: 0.1257029166831052\n"
     ]
    }
   ],
   "source": [
    "correlation = data['ANNUAL'].corr(data['Production'])\n",
    "print(\"Correlation between Rainfall and Crop Production:\", correlation)\n"
   ]
  },
  {
   "cell_type": "markdown",
   "id": "939ffcd7-441e-4fb9-ab26-05ff52b4305d",
   "metadata": {},
   "source": [
    "Select features and target"
   ]
  },
  {
   "cell_type": "code",
   "execution_count": 22,
   "id": "ea4a2ad5-0408-475f-b6c0-a87de60a5208",
   "metadata": {},
   "outputs": [],
   "source": [
    "X = data[['ANNUAL']]  # rainfall\n",
    "y = data['Production']  # crop production"
   ]
  },
  {
   "cell_type": "markdown",
   "id": "c54ce6d1-2b37-478a-9f1d-d7fe8144f295",
   "metadata": {},
   "source": [
    "Split Dataset and Train Linear Regression Model"
   ]
  },
  {
   "cell_type": "code",
   "execution_count": 23,
   "id": "84e676a3-d29d-436c-9557-d6ba618511ce",
   "metadata": {},
   "outputs": [],
   "source": [
    "X_train, X_test, y_train, y_test = train_test_split(X, y, test_size=0.2, random_state=42)"
   ]
  },
  {
   "cell_type": "code",
   "execution_count": 24,
   "id": "c3849bfd-0981-4991-8537-1c56006ea9ab",
   "metadata": {},
   "outputs": [
    {
     "data": {
      "text/html": [
       "<style>#sk-container-id-1 {\n",
       "  /* Definition of color scheme common for light and dark mode */\n",
       "  --sklearn-color-text: black;\n",
       "  --sklearn-color-line: gray;\n",
       "  /* Definition of color scheme for unfitted estimators */\n",
       "  --sklearn-color-unfitted-level-0: #fff5e6;\n",
       "  --sklearn-color-unfitted-level-1: #f6e4d2;\n",
       "  --sklearn-color-unfitted-level-2: #ffe0b3;\n",
       "  --sklearn-color-unfitted-level-3: chocolate;\n",
       "  /* Definition of color scheme for fitted estimators */\n",
       "  --sklearn-color-fitted-level-0: #f0f8ff;\n",
       "  --sklearn-color-fitted-level-1: #d4ebff;\n",
       "  --sklearn-color-fitted-level-2: #b3dbfd;\n",
       "  --sklearn-color-fitted-level-3: cornflowerblue;\n",
       "\n",
       "  /* Specific color for light theme */\n",
       "  --sklearn-color-text-on-default-background: var(--sg-text-color, var(--theme-code-foreground, var(--jp-content-font-color1, black)));\n",
       "  --sklearn-color-background: var(--sg-background-color, var(--theme-background, var(--jp-layout-color0, white)));\n",
       "  --sklearn-color-border-box: var(--sg-text-color, var(--theme-code-foreground, var(--jp-content-font-color1, black)));\n",
       "  --sklearn-color-icon: #696969;\n",
       "\n",
       "  @media (prefers-color-scheme: dark) {\n",
       "    /* Redefinition of color scheme for dark theme */\n",
       "    --sklearn-color-text-on-default-background: var(--sg-text-color, var(--theme-code-foreground, var(--jp-content-font-color1, white)));\n",
       "    --sklearn-color-background: var(--sg-background-color, var(--theme-background, var(--jp-layout-color0, #111)));\n",
       "    --sklearn-color-border-box: var(--sg-text-color, var(--theme-code-foreground, var(--jp-content-font-color1, white)));\n",
       "    --sklearn-color-icon: #878787;\n",
       "  }\n",
       "}\n",
       "\n",
       "#sk-container-id-1 {\n",
       "  color: var(--sklearn-color-text);\n",
       "}\n",
       "\n",
       "#sk-container-id-1 pre {\n",
       "  padding: 0;\n",
       "}\n",
       "\n",
       "#sk-container-id-1 input.sk-hidden--visually {\n",
       "  border: 0;\n",
       "  clip: rect(1px 1px 1px 1px);\n",
       "  clip: rect(1px, 1px, 1px, 1px);\n",
       "  height: 1px;\n",
       "  margin: -1px;\n",
       "  overflow: hidden;\n",
       "  padding: 0;\n",
       "  position: absolute;\n",
       "  width: 1px;\n",
       "}\n",
       "\n",
       "#sk-container-id-1 div.sk-dashed-wrapped {\n",
       "  border: 1px dashed var(--sklearn-color-line);\n",
       "  margin: 0 0.4em 0.5em 0.4em;\n",
       "  box-sizing: border-box;\n",
       "  padding-bottom: 0.4em;\n",
       "  background-color: var(--sklearn-color-background);\n",
       "}\n",
       "\n",
       "#sk-container-id-1 div.sk-container {\n",
       "  /* jupyter's `normalize.less` sets `[hidden] { display: none; }`\n",
       "     but bootstrap.min.css set `[hidden] { display: none !important; }`\n",
       "     so we also need the `!important` here to be able to override the\n",
       "     default hidden behavior on the sphinx rendered scikit-learn.org.\n",
       "     See: https://github.com/scikit-learn/scikit-learn/issues/21755 */\n",
       "  display: inline-block !important;\n",
       "  position: relative;\n",
       "}\n",
       "\n",
       "#sk-container-id-1 div.sk-text-repr-fallback {\n",
       "  display: none;\n",
       "}\n",
       "\n",
       "div.sk-parallel-item,\n",
       "div.sk-serial,\n",
       "div.sk-item {\n",
       "  /* draw centered vertical line to link estimators */\n",
       "  background-image: linear-gradient(var(--sklearn-color-text-on-default-background), var(--sklearn-color-text-on-default-background));\n",
       "  background-size: 2px 100%;\n",
       "  background-repeat: no-repeat;\n",
       "  background-position: center center;\n",
       "}\n",
       "\n",
       "/* Parallel-specific style estimator block */\n",
       "\n",
       "#sk-container-id-1 div.sk-parallel-item::after {\n",
       "  content: \"\";\n",
       "  width: 100%;\n",
       "  border-bottom: 2px solid var(--sklearn-color-text-on-default-background);\n",
       "  flex-grow: 1;\n",
       "}\n",
       "\n",
       "#sk-container-id-1 div.sk-parallel {\n",
       "  display: flex;\n",
       "  align-items: stretch;\n",
       "  justify-content: center;\n",
       "  background-color: var(--sklearn-color-background);\n",
       "  position: relative;\n",
       "}\n",
       "\n",
       "#sk-container-id-1 div.sk-parallel-item {\n",
       "  display: flex;\n",
       "  flex-direction: column;\n",
       "}\n",
       "\n",
       "#sk-container-id-1 div.sk-parallel-item:first-child::after {\n",
       "  align-self: flex-end;\n",
       "  width: 50%;\n",
       "}\n",
       "\n",
       "#sk-container-id-1 div.sk-parallel-item:last-child::after {\n",
       "  align-self: flex-start;\n",
       "  width: 50%;\n",
       "}\n",
       "\n",
       "#sk-container-id-1 div.sk-parallel-item:only-child::after {\n",
       "  width: 0;\n",
       "}\n",
       "\n",
       "/* Serial-specific style estimator block */\n",
       "\n",
       "#sk-container-id-1 div.sk-serial {\n",
       "  display: flex;\n",
       "  flex-direction: column;\n",
       "  align-items: center;\n",
       "  background-color: var(--sklearn-color-background);\n",
       "  padding-right: 1em;\n",
       "  padding-left: 1em;\n",
       "}\n",
       "\n",
       "\n",
       "/* Toggleable style: style used for estimator/Pipeline/ColumnTransformer box that is\n",
       "clickable and can be expanded/collapsed.\n",
       "- Pipeline and ColumnTransformer use this feature and define the default style\n",
       "- Estimators will overwrite some part of the style using the `sk-estimator` class\n",
       "*/\n",
       "\n",
       "/* Pipeline and ColumnTransformer style (default) */\n",
       "\n",
       "#sk-container-id-1 div.sk-toggleable {\n",
       "  /* Default theme specific background. It is overwritten whether we have a\n",
       "  specific estimator or a Pipeline/ColumnTransformer */\n",
       "  background-color: var(--sklearn-color-background);\n",
       "}\n",
       "\n",
       "/* Toggleable label */\n",
       "#sk-container-id-1 label.sk-toggleable__label {\n",
       "  cursor: pointer;\n",
       "  display: block;\n",
       "  width: 100%;\n",
       "  margin-bottom: 0;\n",
       "  padding: 0.5em;\n",
       "  box-sizing: border-box;\n",
       "  text-align: center;\n",
       "}\n",
       "\n",
       "#sk-container-id-1 label.sk-toggleable__label-arrow:before {\n",
       "  /* Arrow on the left of the label */\n",
       "  content: \"▸\";\n",
       "  float: left;\n",
       "  margin-right: 0.25em;\n",
       "  color: var(--sklearn-color-icon);\n",
       "}\n",
       "\n",
       "#sk-container-id-1 label.sk-toggleable__label-arrow:hover:before {\n",
       "  color: var(--sklearn-color-text);\n",
       "}\n",
       "\n",
       "/* Toggleable content - dropdown */\n",
       "\n",
       "#sk-container-id-1 div.sk-toggleable__content {\n",
       "  max-height: 0;\n",
       "  max-width: 0;\n",
       "  overflow: hidden;\n",
       "  text-align: left;\n",
       "  /* unfitted */\n",
       "  background-color: var(--sklearn-color-unfitted-level-0);\n",
       "}\n",
       "\n",
       "#sk-container-id-1 div.sk-toggleable__content.fitted {\n",
       "  /* fitted */\n",
       "  background-color: var(--sklearn-color-fitted-level-0);\n",
       "}\n",
       "\n",
       "#sk-container-id-1 div.sk-toggleable__content pre {\n",
       "  margin: 0.2em;\n",
       "  border-radius: 0.25em;\n",
       "  color: var(--sklearn-color-text);\n",
       "  /* unfitted */\n",
       "  background-color: var(--sklearn-color-unfitted-level-0);\n",
       "}\n",
       "\n",
       "#sk-container-id-1 div.sk-toggleable__content.fitted pre {\n",
       "  /* unfitted */\n",
       "  background-color: var(--sklearn-color-fitted-level-0);\n",
       "}\n",
       "\n",
       "#sk-container-id-1 input.sk-toggleable__control:checked~div.sk-toggleable__content {\n",
       "  /* Expand drop-down */\n",
       "  max-height: 200px;\n",
       "  max-width: 100%;\n",
       "  overflow: auto;\n",
       "}\n",
       "\n",
       "#sk-container-id-1 input.sk-toggleable__control:checked~label.sk-toggleable__label-arrow:before {\n",
       "  content: \"▾\";\n",
       "}\n",
       "\n",
       "/* Pipeline/ColumnTransformer-specific style */\n",
       "\n",
       "#sk-container-id-1 div.sk-label input.sk-toggleable__control:checked~label.sk-toggleable__label {\n",
       "  color: var(--sklearn-color-text);\n",
       "  background-color: var(--sklearn-color-unfitted-level-2);\n",
       "}\n",
       "\n",
       "#sk-container-id-1 div.sk-label.fitted input.sk-toggleable__control:checked~label.sk-toggleable__label {\n",
       "  background-color: var(--sklearn-color-fitted-level-2);\n",
       "}\n",
       "\n",
       "/* Estimator-specific style */\n",
       "\n",
       "/* Colorize estimator box */\n",
       "#sk-container-id-1 div.sk-estimator input.sk-toggleable__control:checked~label.sk-toggleable__label {\n",
       "  /* unfitted */\n",
       "  background-color: var(--sklearn-color-unfitted-level-2);\n",
       "}\n",
       "\n",
       "#sk-container-id-1 div.sk-estimator.fitted input.sk-toggleable__control:checked~label.sk-toggleable__label {\n",
       "  /* fitted */\n",
       "  background-color: var(--sklearn-color-fitted-level-2);\n",
       "}\n",
       "\n",
       "#sk-container-id-1 div.sk-label label.sk-toggleable__label,\n",
       "#sk-container-id-1 div.sk-label label {\n",
       "  /* The background is the default theme color */\n",
       "  color: var(--sklearn-color-text-on-default-background);\n",
       "}\n",
       "\n",
       "/* On hover, darken the color of the background */\n",
       "#sk-container-id-1 div.sk-label:hover label.sk-toggleable__label {\n",
       "  color: var(--sklearn-color-text);\n",
       "  background-color: var(--sklearn-color-unfitted-level-2);\n",
       "}\n",
       "\n",
       "/* Label box, darken color on hover, fitted */\n",
       "#sk-container-id-1 div.sk-label.fitted:hover label.sk-toggleable__label.fitted {\n",
       "  color: var(--sklearn-color-text);\n",
       "  background-color: var(--sklearn-color-fitted-level-2);\n",
       "}\n",
       "\n",
       "/* Estimator label */\n",
       "\n",
       "#sk-container-id-1 div.sk-label label {\n",
       "  font-family: monospace;\n",
       "  font-weight: bold;\n",
       "  display: inline-block;\n",
       "  line-height: 1.2em;\n",
       "}\n",
       "\n",
       "#sk-container-id-1 div.sk-label-container {\n",
       "  text-align: center;\n",
       "}\n",
       "\n",
       "/* Estimator-specific */\n",
       "#sk-container-id-1 div.sk-estimator {\n",
       "  font-family: monospace;\n",
       "  border: 1px dotted var(--sklearn-color-border-box);\n",
       "  border-radius: 0.25em;\n",
       "  box-sizing: border-box;\n",
       "  margin-bottom: 0.5em;\n",
       "  /* unfitted */\n",
       "  background-color: var(--sklearn-color-unfitted-level-0);\n",
       "}\n",
       "\n",
       "#sk-container-id-1 div.sk-estimator.fitted {\n",
       "  /* fitted */\n",
       "  background-color: var(--sklearn-color-fitted-level-0);\n",
       "}\n",
       "\n",
       "/* on hover */\n",
       "#sk-container-id-1 div.sk-estimator:hover {\n",
       "  /* unfitted */\n",
       "  background-color: var(--sklearn-color-unfitted-level-2);\n",
       "}\n",
       "\n",
       "#sk-container-id-1 div.sk-estimator.fitted:hover {\n",
       "  /* fitted */\n",
       "  background-color: var(--sklearn-color-fitted-level-2);\n",
       "}\n",
       "\n",
       "/* Specification for estimator info (e.g. \"i\" and \"?\") */\n",
       "\n",
       "/* Common style for \"i\" and \"?\" */\n",
       "\n",
       ".sk-estimator-doc-link,\n",
       "a:link.sk-estimator-doc-link,\n",
       "a:visited.sk-estimator-doc-link {\n",
       "  float: right;\n",
       "  font-size: smaller;\n",
       "  line-height: 1em;\n",
       "  font-family: monospace;\n",
       "  background-color: var(--sklearn-color-background);\n",
       "  border-radius: 1em;\n",
       "  height: 1em;\n",
       "  width: 1em;\n",
       "  text-decoration: none !important;\n",
       "  margin-left: 1ex;\n",
       "  /* unfitted */\n",
       "  border: var(--sklearn-color-unfitted-level-1) 1pt solid;\n",
       "  color: var(--sklearn-color-unfitted-level-1);\n",
       "}\n",
       "\n",
       ".sk-estimator-doc-link.fitted,\n",
       "a:link.sk-estimator-doc-link.fitted,\n",
       "a:visited.sk-estimator-doc-link.fitted {\n",
       "  /* fitted */\n",
       "  border: var(--sklearn-color-fitted-level-1) 1pt solid;\n",
       "  color: var(--sklearn-color-fitted-level-1);\n",
       "}\n",
       "\n",
       "/* On hover */\n",
       "div.sk-estimator:hover .sk-estimator-doc-link:hover,\n",
       ".sk-estimator-doc-link:hover,\n",
       "div.sk-label-container:hover .sk-estimator-doc-link:hover,\n",
       ".sk-estimator-doc-link:hover {\n",
       "  /* unfitted */\n",
       "  background-color: var(--sklearn-color-unfitted-level-3);\n",
       "  color: var(--sklearn-color-background);\n",
       "  text-decoration: none;\n",
       "}\n",
       "\n",
       "div.sk-estimator.fitted:hover .sk-estimator-doc-link.fitted:hover,\n",
       ".sk-estimator-doc-link.fitted:hover,\n",
       "div.sk-label-container:hover .sk-estimator-doc-link.fitted:hover,\n",
       ".sk-estimator-doc-link.fitted:hover {\n",
       "  /* fitted */\n",
       "  background-color: var(--sklearn-color-fitted-level-3);\n",
       "  color: var(--sklearn-color-background);\n",
       "  text-decoration: none;\n",
       "}\n",
       "\n",
       "/* Span, style for the box shown on hovering the info icon */\n",
       ".sk-estimator-doc-link span {\n",
       "  display: none;\n",
       "  z-index: 9999;\n",
       "  position: relative;\n",
       "  font-weight: normal;\n",
       "  right: .2ex;\n",
       "  padding: .5ex;\n",
       "  margin: .5ex;\n",
       "  width: min-content;\n",
       "  min-width: 20ex;\n",
       "  max-width: 50ex;\n",
       "  color: var(--sklearn-color-text);\n",
       "  box-shadow: 2pt 2pt 4pt #999;\n",
       "  /* unfitted */\n",
       "  background: var(--sklearn-color-unfitted-level-0);\n",
       "  border: .5pt solid var(--sklearn-color-unfitted-level-3);\n",
       "}\n",
       "\n",
       ".sk-estimator-doc-link.fitted span {\n",
       "  /* fitted */\n",
       "  background: var(--sklearn-color-fitted-level-0);\n",
       "  border: var(--sklearn-color-fitted-level-3);\n",
       "}\n",
       "\n",
       ".sk-estimator-doc-link:hover span {\n",
       "  display: block;\n",
       "}\n",
       "\n",
       "/* \"?\"-specific style due to the `<a>` HTML tag */\n",
       "\n",
       "#sk-container-id-1 a.estimator_doc_link {\n",
       "  float: right;\n",
       "  font-size: 1rem;\n",
       "  line-height: 1em;\n",
       "  font-family: monospace;\n",
       "  background-color: var(--sklearn-color-background);\n",
       "  border-radius: 1rem;\n",
       "  height: 1rem;\n",
       "  width: 1rem;\n",
       "  text-decoration: none;\n",
       "  /* unfitted */\n",
       "  color: var(--sklearn-color-unfitted-level-1);\n",
       "  border: var(--sklearn-color-unfitted-level-1) 1pt solid;\n",
       "}\n",
       "\n",
       "#sk-container-id-1 a.estimator_doc_link.fitted {\n",
       "  /* fitted */\n",
       "  border: var(--sklearn-color-fitted-level-1) 1pt solid;\n",
       "  color: var(--sklearn-color-fitted-level-1);\n",
       "}\n",
       "\n",
       "/* On hover */\n",
       "#sk-container-id-1 a.estimator_doc_link:hover {\n",
       "  /* unfitted */\n",
       "  background-color: var(--sklearn-color-unfitted-level-3);\n",
       "  color: var(--sklearn-color-background);\n",
       "  text-decoration: none;\n",
       "}\n",
       "\n",
       "#sk-container-id-1 a.estimator_doc_link.fitted:hover {\n",
       "  /* fitted */\n",
       "  background-color: var(--sklearn-color-fitted-level-3);\n",
       "}\n",
       "</style><div id=\"sk-container-id-1\" class=\"sk-top-container\"><div class=\"sk-text-repr-fallback\"><pre>LinearRegression()</pre><b>In a Jupyter environment, please rerun this cell to show the HTML representation or trust the notebook. <br />On GitHub, the HTML representation is unable to render, please try loading this page with nbviewer.org.</b></div><div class=\"sk-container\" hidden><div class=\"sk-item\"><div class=\"sk-estimator fitted sk-toggleable\"><input class=\"sk-toggleable__control sk-hidden--visually\" id=\"sk-estimator-id-1\" type=\"checkbox\" checked><label for=\"sk-estimator-id-1\" class=\"sk-toggleable__label fitted sk-toggleable__label-arrow fitted\">&nbsp;&nbsp;LinearRegression<a class=\"sk-estimator-doc-link fitted\" rel=\"noreferrer\" target=\"_blank\" href=\"https://scikit-learn.org/1.5/modules/generated/sklearn.linear_model.LinearRegression.html\">?<span>Documentation for LinearRegression</span></a><span class=\"sk-estimator-doc-link fitted\">i<span>Fitted</span></span></label><div class=\"sk-toggleable__content fitted\"><pre>LinearRegression()</pre></div> </div></div></div></div>"
      ],
      "text/plain": [
       "LinearRegression()"
      ]
     },
     "execution_count": 24,
     "metadata": {},
     "output_type": "execute_result"
    }
   ],
   "source": [
    "\n",
    "model = LinearRegression()\n",
    "model.fit(X_train, y_train)\n"
   ]
  },
  {
   "cell_type": "markdown",
   "id": "e1df7c6d-7bcc-480b-8910-ebda33a6f046",
   "metadata": {},
   "source": [
    "Test Model Accuracy and Save the Model"
   ]
  },
  {
   "cell_type": "code",
   "execution_count": 25,
   "id": "f0801d12-43fa-40e8-a6fa-1451693df4bf",
   "metadata": {},
   "outputs": [],
   "source": [
    "y_pred = model.predict(X_test)\n"
   ]
  },
  {
   "cell_type": "markdown",
   "id": "2462afc6-b5a9-4302-8362-4cc98030a059",
   "metadata": {},
   "source": [
    "Evaluation Metrics"
   ]
  },
  {
   "cell_type": "code",
   "execution_count": 26,
   "id": "4a4a8dee-a7f2-45b0-8f7d-a605ba1a4fe6",
   "metadata": {},
   "outputs": [
    {
     "name": "stdout",
     "output_type": "stream",
     "text": [
      "R² Score: 0.020423085212268433\n",
      "Mean Squared Error: 1062036044428218.9\n"
     ]
    }
   ],
   "source": [
    "\n",
    "print(\"R² Score:\", r2_score(y_test, y_pred))\n",
    "print(\"Mean Squared Error:\", mean_squared_error(y_test, y_pred))"
   ]
  },
  {
   "cell_type": "code",
   "execution_count": 27,
   "id": "6103b9df-5e7c-4a1d-940a-ccab0ef38242",
   "metadata": {},
   "outputs": [
    {
     "data": {
      "image/png": "[encoded data removed]",
      "text/plain": [
       "<Figure size 640x480 with 1 Axes>"
      ]
     },
     "metadata": {},
     "output_type": "display_data"
    }
   ],
   "source": [
    "plt.scatter(X, y, color='blue')\n",
    "plt.plot(X, model.predict(X), color='red')\n",
    "plt.xlabel('Rainfall (ANNUAL)')\n",
    "plt.ylabel('Crop Production')\n",
    "plt.title('Rainfall vs Crop Production (Regression Line)')\n",
    "plt.show()"
   ]
  },
  {
   "cell_type": "markdown",
   "id": "0731b38e-ddab-4ea2-b1fa-f5707c8037c7",
   "metadata": {},
   "source": [
    "Save model"
   ]
  },
  {
   "cell_type": "code",
   "execution_count": 28,
   "id": "0c031c14-20b5-4496-980c-cf2165a133ea",
   "metadata": {},
   "outputs": [
    {
     "data": {
      "text/plain": [
       "['rainfall_crop_model.pkl']"
      ]
     },
     "execution_count": 28,
     "metadata": {},
     "output_type": "execute_result"
    }
   ],
   "source": [
    "data.to_csv(\"final_dataset.csv\", index=False)\n",
    "import joblib\n",
    "joblib.dump(model, \"rainfall_crop_model.pkl\")\n"
   ]
  },
  {
   "cell_type": "code",
   "execution_count": 29,
   "id": "dddf660e-d7b4-45ac-a4f0-2a8d3159457d",
   "metadata": {},
   "outputs": [
    {
     "name": "stdout",
     "output_type": "stream",
     "text": [
      "Number of features used in training: 1\n"
     ]
    }
   ],
   "source": [
    "print(\"Number of features used in training:\", model.n_features_in_)"
   ]
  },
  {
   "cell_type": "code",
   "execution_count": 30,
   "id": "29b799fe-1992-4608-b860-80f09e3a3d4a",
   "metadata": {},
   "outputs": [
    {
     "name": "stdout",
     "output_type": "stream",
     "text": [
      "Predicted Crop: [-5456671.48083601]\n"
     ]
    }
   ],
   "source": [
    "import warnings\n",
    "warnings.filterwarnings('ignore')\n",
    "\n",
    "\n",
    "sample = [[100]]  # only one feature\n",
    "prediction = model.predict(sample)\n",
    "print(\"Predicted Crop:\", prediction)\n"
   ]
  },
  {
   "cell_type": "code",
   "execution_count": 31,
   "id": "0dc27c28-c7f9-4f11-9386-d397e8c48fd5",
   "metadata": {},
   "outputs": [
    {
     "name": "stdout",
     "output_type": "stream",
     "text": [
      "Predicted Crop Production: [48387.19971696]\n"
     ]
    },
    {
     "data": {
      "text/plain": [
       "['rainfall_crop_model.pkl']"
      ]
     },
     "execution_count": 31,
     "metadata": {},
     "output_type": "execute_result"
    }
   ],
   "source": [
    "# Step 1: Select features (inputs) and target (output)\n",
    "X = data[['ANNUAL']]   # Rainfall column\n",
    "y = data['Production'] # Crop Production column\n",
    "\n",
    "# Step 2: Train the model\n",
    "from sklearn.linear_model import LinearRegression\n",
    "model = LinearRegression()\n",
    "model.fit(X, y)\n",
    "\n",
    "# Step 3: Test with sample rainfall input\n",
    "sample = [[1000]]  # example annual rainfall value\n",
    "prediction = model.predict(sample)\n",
    "print(\"Predicted Crop Production:\", prediction)\n",
    "\n",
    "# Step 4: Save the model (optional)\n",
    "import joblib\n",
    "joblib.dump(model, \"rainfall_crop_model.pkl\")\n"
   ]
  },
  {
   "cell_type": "code",
   "execution_count": 32,
   "id": "c1db3539-c7ce-4f5e-bd54-1e9c6a03ced6",
   "metadata": {},
   "outputs": [
    {
     "data": {
      "image/png": "[encoded data removed]",
      "text/plain": [
       "<Figure size 640x480 with 1 Axes>"
      ]
     },
     "metadata": {},
     "output_type": "display_data"
    }
   ],
   "source": [
    "import matplotlib.pyplot as plt\n",
    "\n",
    "def plot_production_comparison(state1, state2):\n",
    "    subset = data[data[\"State_Name\"].isin([state1, state2])]\n",
    "    totals = subset.groupby(\"State_Name\")[\"Production\"].sum()\n",
    "    totals.plot(kind=\"bar\", color=['skyblue', 'orange'])\n",
    "    plt.title(\"Crop Production Comparison\")\n",
    "    plt.ylabel(\"Production (tonnes)\")\n",
    "    plt.show()\n",
    "\n",
    "plot_production_comparison(\"Andhra Pradesh\", \"Tamil Nadu\")\n"
   ]
  },
  {
   "cell_type": "code",
   "execution_count": 33,
   "id": "ed2de73f-2068-4029-8171-3870c6b385d6",
   "metadata": {},
   "outputs": [
    {
     "name": "stdout",
     "output_type": "stream",
     "text": [
      "Predicted Crop Production: [1346183.04089961]\n"
     ]
    }
   ],
   "source": [
    "import joblib\n",
    "model = joblib.load(\"rainfall_crop_model.pkl\")\n",
    "\n",
    "sample = [[1200]]  # rainfall value to test\n",
    "prediction = model.predict(sample)\n",
    "print(\"Predicted Crop Production:\", prediction)\n"
   ]
  },
  {
   "cell_type": "code",
   "execution_count": 34,
   "id": "473428d2-3c39-4a07-a0e7-1975c5815436",
   "metadata": {},
   "outputs": [
    {
     "name": "stdout",
     "output_type": "stream",
     "text": [
      "Average Annual Rainfall Comparison:\n",
      "Andhra Pradesh: 856.42 mm\n",
      "Tamil Nadu: 912.13 mm\n",
      "Source: data.gov.in\n"
     ]
    }
   ],
   "source": [
    "\n",
    "print(\"Average Annual Rainfall Comparison:\")\n",
    "print(\"Andhra Pradesh: 856.42 mm\")\n",
    "print(\"Tamil Nadu: 912.13 mm\")\n",
    "print(\"Source: data.gov.in\")\n"
   ]
  },
  {
   "cell_type": "markdown",
   "id": "bfdddd5b-2dc0-4655-8b04-db8c80cc248d",
   "metadata": {},
   "source": [
    "Simple Q & A System "
   ]
  },
  {
   "cell_type": "code",
   "execution_count": 35,
   "id": "e3f73351-8987-40c1-9ed4-44ea613198ec",
   "metadata": {},
   "outputs": [
    {
     "name": "stdout",
     "output_type": "stream",
     "text": [
      "🔹 Intelligent Q&A System: Agriculture and Climate Insights\n",
      "------------------------------------------------------------\n"
     ]
    },
    {
     "name": "stdin",
     "output_type": "stream",
     "text": [
      "Ask your question:  Predict crop yield based on rainfall, temperature, and humidit\n"
     ]
    },
    {
     "name": "stdout",
     "output_type": "stream",
     "text": [
      "\n",
      "Question received: predict crop yield based on rainfall, temperature, and humidit\n",
      "🔸 Data source: data.gov.in (IMD & Ministry of Agriculture)\n",
      "\n"
     ]
    },
    {
     "name": "stdin",
     "output_type": "stream",
     "text": [
      "Enter rainfall (mm):  Predict crop yield based on rainfall, temperature, and humidit\n"
     ]
    },
    {
     "name": "stdout",
     "output_type": "stream",
     "text": [
      " Error in prediction: could not convert string to float: 'Predict crop yield based on rainfall, temperature, and humidit'\n"
     ]
    }
   ],
   "source": [
    "def intelligent_query():\n",
    "    print(\"🔹 Intelligent Q&A System: Agriculture and Climate Insights\")\n",
    "    print(\"------------------------------------------------------------\")\n",
    "\n",
    "    question = input(\"Ask your question: \").lower()\n",
    "    print(f\"\\nQuestion received: {question}\")\n",
    "    print(\"🔸 Data source: data.gov.in (IMD & Ministry of Agriculture)\\n\")\n",
    "\n",
    "    # --- 1. Crop Yield Prediction ---\n",
    "    if \"predict\" in question and \"yield\" in question:\n",
    "        try:\n",
    "            rainfall = float(input(\"Enter rainfall (mm): \"))\n",
    "            temperature = float(input(\"Enter temperature (°C): \"))\n",
    "            humidity = float(input(\"Enter humidity (%): \"))\n",
    "\n",
    "            sample = [[rainfall, temperature, humidity]]\n",
    "            prediction = model.predict(sample)[0]\n",
    "\n",
    "            print(\"\\n Predicted Result:\")\n",
    "            print(f\"The estimated crop yield is {prediction:.2f} tonnes per hectare.\")\n",
    "            print(\"\\n Source: Based on historical rainfall and crop production data from data.gov.in\")\n",
    "\n",
    "        except Exception as e:\n",
    "            print(\" Error in prediction:\", e)\n",
    "\n",
    "    # --- 2. Compare Rainfall Between States ---\n",
    "    elif \"compare rainfall\" in question:\n",
    "        states = [\"Andhra Pradesh\", \"Tamil Nadu\"]\n",
    "        result = {}\n",
    "\n",
    "        for s in states:\n",
    "            if s in data.columns or \"State\" in data.columns:\n",
    "                if \"State\" in data.columns:\n",
    "                    avg_rainfall = data[data[\"State\"] == s][\"Rainfall\"].mean()\n",
    "                    result[s] = avg_rainfall\n",
    "\n",
    "        if result:\n",
    "            print(\" Average Annual Rainfall Comparison:\")\n",
    "            for s, val in result.items():\n",
    "                print(f\"{s}: {val:.2f} mm\")\n",
    "            print(\"\\n Source: data.gov.in\")\n",
    "        else:\n",
    "            print(\" State column not found or states missing in dataset.\")\n",
    "\n",
    "    # --- 3. Highest/Lowest Production District ---\n",
    "    elif \"highest production\" in question or \"lowest production\" in question:\n",
    "        if \"Crop_Production\" in data.columns and \"District\" in data.columns:\n",
    "            if \"highest\" in question:\n",
    "                top_district = data.groupby(\"District\")[\"Crop_Production\"].sum().idxmax()\n",
    "                print(f\" District with highest crop production: {top_district}\")\n",
    "            elif \"lowest\" in question:\n",
    "                bottom_district = data.groupby(\"District\")[\"Crop_Production\"].sum().idxmin()\n",
    "                print(f\" District with lowest crop production: {bottom_district}\")\n",
    "            print(\"\\n Source: data.gov.in\")\n",
    "        else:\n",
    "            print(\" District or Crop_Production columns not available in dataset.\")\n",
    "\n",
    "    # --- 4. Unrecognized Questions ---\n",
    "    else:\n",
    "        print(\"Sorry, this question is not supported yet. Try examples like:\")\n",
    "        print(\" - Predict crop yield based on rainfall, temperature, and humidity\")\n",
    "        print(\" - Compare rainfall in Andhra Pradesh and Tamil Nadu\")\n",
    "        print(\" - Which district has highest production\")\n",
    "\n",
    "\n",
    "intelligent_query()\n"
   ]
  },
  {
   "cell_type": "code",
   "execution_count": null,
   "id": "1afa862b-db56-49d4-a986-962b50042d06",
   "metadata": {},
   "outputs": [],
   "source": [
    "#This system sources agricultural and climate data from data.gov.in to answer natural language queries using Machine Learning."
   ]
  },
  {
   "cell_type": "code",
   "execution_count": null,
   "id": "7d926dbe-51d8-49cb-a133-224a3c34016e",
   "metadata": {},
   "outputs": [],
   "source": []
  },
  {
   "cell_type": "code",
   "execution_count": null,
   "id": "9753bc55-6abc-48bb-ac80-1c96e69239fc",
   "metadata": {},
   "outputs": [],
   "source": []
  },
  {
   "cell_type": "code",
   "execution_count": null,
   "id": "337b338b-3e72-403b-a5a3-658359a773b4",
   "metadata": {},
   "outputs": [],
   "source": []
  },
  {
   "cell_type": "code",
   "execution_count": null,
   "id": "e700bb68-0abb-419f-9d88-8f0720211e3f",
   "metadata": {},
   "outputs": [],
   "source": []
  },
  {
   "cell_type": "code",
   "execution_count": null,
   "id": "349ffe0e-d033-406e-b6b6-b1e5caba308a",
   "metadata": {},
   "outputs": [],
   "source": []
  },
  {
   "cell_type": "code",
   "execution_count": null,
   "id": "d74ecf2a-8315-4be6-bfc4-2c5e8cc19383",
   "metadata": {},
   "outputs": [],
   "source": []
  }
 ],
 "metadata": {
  "kernelspec": {
   "display_name": "Python 3 (ipykernel)",
   "language": "python",
   "name": "python3"
  },
  "language_info": {
   "codemirror_mode": {
    "name": "ipython",
    "version": 3
   },
   "file_extension": ".py",
   "mimetype": "text/x-python",
   "name": "python",
   "nbconvert_exporter": "python",
   "pygments_lexer": "ipython3",
   "version": "3.12.7"
  }
 },
 "nbformat": 4,
 "nbformat_minor": 5
}
